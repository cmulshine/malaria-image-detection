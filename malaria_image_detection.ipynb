{
 "cells": [
  {
   "cell_type": "markdown",
   "id": "c06ecc4f-6e4f-44a4-8599-8c0eaae085e8",
   "metadata": {
    "id": "c06ecc4f-6e4f-44a4-8599-8c0eaae085e8"
   },
   "source": [
    "# Malaria Image Detection\n",
    "## Connor Mulshine"
   ]
  },
  {
   "cell_type": "code",
   "execution_count": 1,
   "id": "26d486fe-addf-4eb0-8545-1615b2b25e92",
   "metadata": {
    "id": "26d486fe-addf-4eb0-8545-1615b2b25e92"
   },
   "outputs": [],
   "source": [
    "import pandas as pd\n",
    "import numpy as np\n",
    "import os\n",
    "from imutils import paths\n",
    "import random\n",
    "import shutil\n",
    "from tensorflow.keras.applications import VGG16\n",
    "from tensorflow.keras.preprocessing.image import ImageDataGenerator\n",
    "from tensorflow.keras.callbacks import LearningRateScheduler, ModelCheckpoint\n",
    "from tensorflow.keras.optimizers import SGD\n",
    "from tensorflow.keras.models import Sequential\n",
    "from tensorflow.keras.layers import Flatten, Dense, Dropout\n",
    "from sklearn.metrics import classification_report\n",
    "import matplotlib.pyplot as plt\n",
    "import warnings\n",
    "warnings.filterwarnings(\"ignore\")"
   ]
  },
  {
   "cell_type": "code",
   "execution_count": 3,
   "id": "2F_yFlYFv2nu",
   "metadata": {
    "colab": {
     "base_uri": "https://localhost:8080/"
    },
    "id": "2F_yFlYFv2nu",
    "outputId": "970e4aa7-dcb5-4018-c05e-57d922a7393b"
   },
   "outputs": [
    {
     "name": "stdout",
     "output_type": "stream",
     "text": [
      "/content/drive/MyDrive/medical_image_analysis/cell_images/.DS_Store\n",
      "/content/drive/MyDrive/medical_image_analysis/cell_images/Parasitized\n",
      "/content/drive/MyDrive/medical_image_analysis/cell_images/Uninfected\n"
     ]
    }
   ],
   "source": [
    "folder_path = '/medical_image_analysis/cell_images\n",
    "base_path = '/medical_image_analysis'\n",
    "\n",
    "# Example: List files in the folder\n",
    "import os\n",
    "\n",
    "for file_name in os.listdir(folder_path):\n",
    "    file_path = os.path.join(folder_path, file_name)\n",
    "    print(file_path)"
   ]
  },
  {
   "cell_type": "code",
   "execution_count": null,
   "id": "5a1882a0-23a6-4ce7-83ed-39491dca4d45",
   "metadata": {
    "colab": {
     "base_uri": "https://localhost:8080/",
     "height": 178
    },
    "id": "5a1882a0-23a6-4ce7-83ed-39491dca4d45",
    "outputId": "69188e55-08ef-40b2-db86-4271ad841cf6"
   },
   "outputs": [],
   "source": [
    "# Grab the paths to all input images in the original input directory and shuffle them\n",
    "imagePaths = list(paths.list_images(folder_path))\n",
    "random.seed(42)\n",
    "random.shuffle(imagePaths)\n",
    "\n",
    "# Compute the training and testing split\n",
    "train_split = 0.8\n",
    "val_split = 0.1\n",
    "\n",
    "i = int(len(imagePaths) * train_split)\n",
    "trainPaths = imagePaths[:i]\n",
    "testPaths = imagePaths[i:]\n",
    "\n",
    "# Use part of the training data for validation\n",
    "i = int(len(trainPaths) * val_split)\n",
    "valPaths = trainPaths[:i]\n",
    "trainPaths = trainPaths[i:]\n",
    "\n",
    "# Derive the training, validation, and testing directories\n",
    "train_path = os.path.sep.join([base_path, \"training\"])\n",
    "val_path = os.path.sep.join([base_path, \"validation\"])\n",
    "test_path = os.path.sep.join([base_path, \"testing\"])\n",
    "\n",
    "# Define the datasets that we'll be building\n",
    "datasets = [\n",
    "    (\"training\", trainPaths, train_path),\n",
    "    (\"validation\", valPaths, val_path),\n",
    "    (\"testing\", testPaths, test_path)]\n",
    "\n",
    "# Loop over the datasets\n",
    "for (dType, imagePaths, baseOutput) in datasets:\n",
    "\n",
    "    # Show which data split we are creating\n",
    "    print(\"[INFO] building '{}' split\".format(dType))\n",
    "\n",
    "    # If the output base output directory does not exist, create it\n",
    "    if not os.path.exists(baseOutput):\n",
    "        print(\"[INFO] 'creating {}' directory\".format(baseOutput))\n",
    "        os.makedirs(baseOutput)\n",
    "\n",
    "    # Loop over the input image paths\n",
    "    for inputPath in imagePaths:\n",
    "\n",
    "        # Extract the filename of the input image along with its corresponding class label\n",
    "        filename = inputPath.split(os.path.sep)[-1]\n",
    "        label = inputPath.split(os.path.sep)[-2]\n",
    "\n",
    "        # Build the path to the label directory\n",
    "        labelPath = os.path.sep.join([baseOutput, label])\n",
    "\n",
    "        # If the label output directory does not exist, create it\n",
    "        if not os.path.exists(labelPath):\n",
    "            print(\"[INFO] 'creating {}' directory\".format(labelPath))\n",
    "            os.makedirs(labelPath)\n",
    "\n",
    "        # Construct the path to the destination image and then copy the image itself\n",
    "        p = os.path.sep.join([labelPath, filename])\n",
    "        shutil.copy2(inputPath, p)"
   ]
  },
  {
   "cell_type": "code",
   "execution_count": 5,
   "id": "12f4da48-9942-4016-aef8-3a3d398bae14",
   "metadata": {
    "id": "12f4da48-9942-4016-aef8-3a3d398bae14"
   },
   "outputs": [],
   "source": [
    "# determine the total number of image paths in training, validation, and testing directories\n",
    "totalTrain = len(list(paths.list_images(train_path)))\n",
    "totalVal = len(list(paths.list_images(val_path)))\n",
    "totalTest = len(list(paths.list_images(test_path)))"
   ]
  },
  {
   "cell_type": "code",
   "execution_count": 6,
   "id": "29aa02f8-b290-46dc-a997-b2d8c8afb935",
   "metadata": {
    "colab": {
     "base_uri": "https://localhost:8080/"
    },
    "id": "29aa02f8-b290-46dc-a997-b2d8c8afb935",
    "outputId": "81dd02ad-1ecf-4c67-ebfa-1dc7850e4b8a"
   },
   "outputs": [
    {
     "name": "stdout",
     "output_type": "stream",
     "text": [
      "Downloading data from https://storage.googleapis.com/tensorflow/keras-applications/vgg16/vgg16_weights_tf_dim_ordering_tf_kernels_notop.h5\n",
      "58889256/58889256 [==============================] - 0s 0us/step\n",
      "Model: \"sequential\"\n",
      "_________________________________________________________________\n",
      " Layer (type)                Output Shape              Param #   \n",
      "=================================================================\n",
      " vgg16 (Functional)          (None, 1, 1, 512)         14714688  \n",
      "                                                                 \n",
      " flatten (Flatten)           (None, 512)               0         \n",
      "                                                                 \n",
      " dense (Dense)               (None, 32)                16416     \n",
      "                                                                 \n",
      " dropout (Dropout)           (None, 32)                0         \n",
      "                                                                 \n",
      " dense_1 (Dense)             (None, 1)                 33        \n",
      "                                                                 \n",
      "=================================================================\n",
      "Total params: 14731137 (56.19 MB)\n",
      "Trainable params: 16449 (64.25 KB)\n",
      "Non-trainable params: 14714688 (56.13 MB)\n",
      "_________________________________________________________________\n"
     ]
    }
   ],
   "source": [
    "# Design CNN using keras, using pretrained network VGG16\n",
    "conv_base = VGG16(weights = \"imagenet\", include_top = False, input_shape=(48, 48, 3))\n",
    "\n",
    "# Create a new model with the VGG16 base for feature extraction\n",
    "model = Sequential()\n",
    "model.add(conv_base)\n",
    "model.add(Flatten())\n",
    "model.add(Dense(32, activation='relu'))\n",
    "model.add(Dropout(0.35))\n",
    "model.add(Dense(1, activation='sigmoid')) # Output layer\n",
    "\n",
    "# Freeze the layers of the VGG19 base, since they are already trained\n",
    "for layer in conv_base.layers:\n",
    "    layer.trainable = False\n",
    "\n",
    "# Compile model with loss function, optimizer, & evaluation metric defined\n",
    "init_lr = 1e-3\n",
    "opt = SGD(learning_rate=init_lr, momentum=0.9)\n",
    "model.compile(loss=\"binary_crossentropy\", optimizer=opt, metrics=[\"accuracy\"])\n",
    "\n",
    "# Display the model summary\n",
    "model.summary()"
   ]
  },
  {
   "cell_type": "code",
   "execution_count": 7,
   "id": "054cc047-2e6d-42f6-b3ca-70e62cbb7874",
   "metadata": {
    "id": "054cc047-2e6d-42f6-b3ca-70e62cbb7874"
   },
   "outputs": [],
   "source": [
    "# Define the total number of epochs to train for along with the initial learning rate and batch size\n",
    "n_epochs = 25\n",
    "BS = 25\n",
    "\n",
    "def poly_decay(epoch):\n",
    "    # Initialize the maximum number of epochs, base learning rate, and power of the polynomial\n",
    "    maxEpochs = n_epochs\n",
    "    baseLR = init_lr\n",
    "    power = 1.0\n",
    "    # Compute the new learning rate based on polynomial decay\n",
    "    alpha = baseLR * (1 - (epoch / float(maxEpochs))) ** power\n",
    "    # Return the new learning rate\n",
    "    return alpha"
   ]
  },
  {
   "cell_type": "code",
   "execution_count": 8,
   "id": "555a16ea-e5ec-47c2-81e2-8f0be27e7e34",
   "metadata": {
    "id": "555a16ea-e5ec-47c2-81e2-8f0be27e7e34"
   },
   "outputs": [],
   "source": [
    "# Initialize the training data augmentation object\n",
    "trainAug = ImageDataGenerator(\n",
    "    rescale=1 / 255.0,\n",
    "    rotation_range=20,\n",
    "    zoom_range=0.05,\n",
    "    width_shift_range=0.05,\n",
    "    height_shift_range=0.05,\n",
    "    shear_range=0.05,\n",
    "    horizontal_flip=True,\n",
    "    fill_mode=\"nearest\")\n",
    "\n",
    "# Initialize the validation (and testing) data augmentation object\n",
    "valAug = ImageDataGenerator(rescale=1 / 255.0)"
   ]
  },
  {
   "cell_type": "code",
   "execution_count": 9,
   "id": "33579435-9239-4196-b2d6-0b0c3a06e7ba",
   "metadata": {
    "colab": {
     "base_uri": "https://localhost:8080/"
    },
    "id": "33579435-9239-4196-b2d6-0b0c3a06e7ba",
    "outputId": "75d5d01d-da48-4bcc-9f1e-500f0cb56a85"
   },
   "outputs": [
    {
     "name": "stdout",
     "output_type": "stream",
     "text": [
      "Found 19842 images belonging to 2 classes.\n",
      "Found 2204 images belonging to 2 classes.\n",
      "Found 5512 images belonging to 2 classes.\n"
     ]
    }
   ],
   "source": [
    "# Initialize the training generator\n",
    "trainGen = trainAug.flow_from_directory(\n",
    "    train_path,\n",
    "    class_mode=\"binary\",\n",
    "    target_size=(48, 48),\n",
    "    color_mode=\"rgb\",\n",
    "    shuffle=True,\n",
    "    batch_size=BS)\n",
    "\n",
    "# Initialize the validation generator\n",
    "valGen = valAug.flow_from_directory(\n",
    "    val_path,\n",
    "    class_mode=\"binary\",\n",
    "    target_size=(48, 48),\n",
    "    color_mode=\"rgb\",\n",
    "    shuffle=False,\n",
    "    batch_size=BS)\n",
    "\n",
    "# Initialize the testing generator\n",
    "testGen = valAug.flow_from_directory(\n",
    "    test_path,\n",
    "    class_mode=\"binary\",\n",
    "    target_size=(48, 48),\n",
    "    color_mode=\"rgb\",\n",
    "    shuffle=False,\n",
    "    batch_size=BS)"
   ]
  },
  {
   "cell_type": "code",
   "execution_count": 62,
   "id": "1226e10f-51f9-4ade-8d3b-71017832303a",
   "metadata": {},
   "outputs": [
    {
     "name": "stdout",
     "output_type": "stream",
     "text": [
      "Epoch 1/25\n",
      "793/793 [==============================] - 3245s 4s/step - loss: 0.5079 - accuracy: 0.7558 - val_loss: 0.3897 - val_accuracy: 0.8373 - lr: 0.0010\n",
      "Epoch 2/25\n",
      "793/793 [==============================] - 610s 770ms/step - loss: 0.3972 - accuracy: 0.8267 - val_loss: 0.3457 - val_accuracy: 0.8591 - lr: 9.6000e-04\n",
      "Epoch 3/25\n",
      "793/793 [==============================] - 579s 730ms/step - loss: 0.3629 - accuracy: 0.8428 - val_loss: 0.3186 - val_accuracy: 0.8673 - lr: 9.2000e-04\n",
      "Epoch 4/25\n",
      "793/793 [==============================] - 602s 759ms/step - loss: 0.3462 - accuracy: 0.8537 - val_loss: 0.3156 - val_accuracy: 0.8727 - lr: 8.8000e-04\n",
      "Epoch 5/25\n",
      "793/793 [==============================] - 580s 731ms/step - loss: 0.3323 - accuracy: 0.8568 - val_loss: 0.3005 - val_accuracy: 0.8818 - lr: 8.4000e-04\n",
      "Epoch 6/25\n",
      "793/793 [==============================] - 605s 763ms/step - loss: 0.3277 - accuracy: 0.8631 - val_loss: 0.2949 - val_accuracy: 0.8855 - lr: 8.0000e-04\n",
      "Epoch 7/25\n",
      "793/793 [==============================] - 606s 764ms/step - loss: 0.3163 - accuracy: 0.8663 - val_loss: 0.2862 - val_accuracy: 0.8895 - lr: 7.6000e-04\n",
      "Epoch 8/25\n",
      "793/793 [==============================] - 576s 727ms/step - loss: 0.3103 - accuracy: 0.8717 - val_loss: 0.2976 - val_accuracy: 0.8800 - lr: 7.2000e-04\n",
      "Epoch 9/25\n",
      "793/793 [==============================] - 602s 758ms/step - loss: 0.3090 - accuracy: 0.8730 - val_loss: 0.2817 - val_accuracy: 0.8936 - lr: 6.8000e-04\n",
      "Epoch 10/25\n",
      "793/793 [==============================] - 577s 728ms/step - loss: 0.3015 - accuracy: 0.8760 - val_loss: 0.3003 - val_accuracy: 0.8768 - lr: 6.4000e-04\n",
      "Epoch 11/25\n",
      "793/793 [==============================] - 604s 761ms/step - loss: 0.3050 - accuracy: 0.8744 - val_loss: 0.2747 - val_accuracy: 0.8936 - lr: 6.0000e-04\n",
      "Epoch 12/25\n",
      "793/793 [==============================] - 600s 756ms/step - loss: 0.2962 - accuracy: 0.8733 - val_loss: 0.2733 - val_accuracy: 0.8932 - lr: 5.6000e-04\n",
      "Epoch 13/25\n",
      "793/793 [==============================] - 604s 761ms/step - loss: 0.2950 - accuracy: 0.8783 - val_loss: 0.2742 - val_accuracy: 0.8977 - lr: 5.2000e-04\n",
      "Epoch 14/25\n",
      "793/793 [==============================] - 605s 763ms/step - loss: 0.2907 - accuracy: 0.8838 - val_loss: 0.2734 - val_accuracy: 0.8955 - lr: 4.8000e-04\n",
      "Epoch 15/25\n",
      "793/793 [==============================] - 575s 725ms/step - loss: 0.2905 - accuracy: 0.8813 - val_loss: 0.2716 - val_accuracy: 0.8932 - lr: 4.4000e-04\n",
      "Epoch 16/25\n",
      "793/793 [==============================] - 573s 722ms/step - loss: 0.2870 - accuracy: 0.8829 - val_loss: 0.2830 - val_accuracy: 0.8877 - lr: 4.0000e-04\n",
      "Epoch 17/25\n",
      "793/793 [==============================] - 610s 769ms/step - loss: 0.2835 - accuracy: 0.8832 - val_loss: 0.2695 - val_accuracy: 0.8923 - lr: 3.6000e-04\n",
      "Epoch 18/25\n",
      "793/793 [==============================] - 600s 757ms/step - loss: 0.2866 - accuracy: 0.8812 - val_loss: 0.2730 - val_accuracy: 0.8914 - lr: 3.2000e-04\n",
      "Epoch 19/25\n",
      "793/793 [==============================] - 600s 757ms/step - loss: 0.2847 - accuracy: 0.8829 - val_loss: 0.2744 - val_accuracy: 0.8955 - lr: 2.8000e-04\n",
      "Epoch 20/25\n",
      "793/793 [==============================] - 605s 762ms/step - loss: 0.2838 - accuracy: 0.8832 - val_loss: 0.2820 - val_accuracy: 0.8882 - lr: 2.4000e-04\n",
      "Epoch 21/25\n",
      "793/793 [==============================] - 597s 753ms/step - loss: 0.2865 - accuracy: 0.8830 - val_loss: 0.2717 - val_accuracy: 0.8936 - lr: 2.0000e-04\n",
      "Epoch 22/25\n",
      "793/793 [==============================] - 602s 760ms/step - loss: 0.2855 - accuracy: 0.8820 - val_loss: 0.2803 - val_accuracy: 0.8905 - lr: 1.6000e-04\n",
      "Epoch 23/25\n",
      "793/793 [==============================] - 571s 720ms/step - loss: 0.2824 - accuracy: 0.8851 - val_loss: 0.2823 - val_accuracy: 0.8868 - lr: 1.2000e-04\n",
      "Epoch 24/25\n",
      "793/793 [==============================] - 602s 759ms/step - loss: 0.2775 - accuracy: 0.8875 - val_loss: 0.2747 - val_accuracy: 0.8923 - lr: 8.0000e-05\n",
      "Epoch 25/25\n",
      "793/793 [==============================] - 574s 724ms/step - loss: 0.2805 - accuracy: 0.8829 - val_loss: 0.2784 - val_accuracy: 0.8914 - lr: 4.0000e-05\n"
     ]
    }
   ],
   "source": [
    "# Define the ModelCheckpoint callback\n",
    "checkpoint_callback = ModelCheckpoint(\"model_weights_2.h5\", save_weights_only=True, save_best_only=True)\n",
    "\n",
    "# Define our set of callbacks and fit the model\n",
    "callbacks = [LearningRateScheduler(poly_decay), checkpoint_callback]\n",
    "\n",
    "H = model.fit(\n",
    "    x=trainGen,\n",
    "    steps_per_epoch=totalTrain // BS,\n",
    "    validation_data=valGen,\n",
    "    validation_steps=totalVal // BS,\n",
    "    epochs=n_epochs,\n",
    "    callbacks=callbacks)"
   ]
  },
  {
   "cell_type": "code",
   "execution_count": 15,
   "id": "274ae7b1-929b-4e67-aff8-8072e8f30497",
   "metadata": {
    "colab": {
     "base_uri": "https://localhost:8080/"
    },
    "id": "274ae7b1-929b-4e67-aff8-8072e8f30497",
    "outputId": "d9c54377-be0d-438d-f399-7e1f062c4bbf"
   },
   "outputs": [
    {
     "name": "stdout",
     "output_type": "stream",
     "text": [
      "221/221 [==============================] - 141s 637ms/step - loss: 0.2752 - accuracy: 0.8826\n",
      "Test Accuracy: 88.26%\n"
     ]
    }
   ],
   "source": [
    "# Reset the testing generator and then use our trained model to make predictions on the data\n",
    "testGen.reset()\n",
    "predIdxs, test_accuracy = model.evaluate(x=testGen, steps=(totalTest // BS) + 1)\n",
    "\n",
    "# Print the test accuracy\n",
    "print(f'Test Accuracy: {test_accuracy * 100:.2f}%')"
   ]
  },
  {
   "cell_type": "code",
   "execution_count": 16,
   "id": "702144d4-1945-496a-984c-e0bb1f6be49c",
   "metadata": {
    "colab": {
     "base_uri": "https://localhost:8080/"
    },
    "id": "702144d4-1945-496a-984c-e0bb1f6be49c",
    "outputId": "940017df-0a8c-4625-f6d9-1ae621b66daa"
   },
   "outputs": [
    {
     "name": "stdout",
     "output_type": "stream",
     "text": [
      "794/794 [==============================] - 518s 652ms/step\n"
     ]
    }
   ],
   "source": [
    "# Extract features using the predict method\n",
    "train_features = model.predict(trainGen, steps=len(trainGen), verbose=1)\n",
    "np.save('train_features', train_features)\n",
    "train_features = np.load('train_features.npy')"
   ]
  },
  {
   "cell_type": "code",
   "execution_count": 76,
   "id": "6815057d-26c8-4afd-b31e-fb169249fc4f",
   "metadata": {},
   "outputs": [
    {
     "data": {
      "image/png": "[encoded data removed]",
      "text/plain": [
       "<Figure size 864x360 with 2 Axes>"
      ]
     },
     "metadata": {},
     "output_type": "display_data"
    }
   ],
   "source": [
    "# Plot the training loss and accuracy\n",
    "N = n_epochs\n",
    "fig, axes = plt.subplots(1, 2, figsize=(12, 5))\n",
    "\n",
    "# Plot training accuracy\n",
    "axes[0].plot(np.arange(0, N), H.history[\"accuracy\"], label=\"train_acc\")\n",
    "axes[0].plot(np.arange(0, N), H.history[\"val_accuracy\"], label=\"val_acc\")\n",
    "axes[0].set_title(\"Training Accuracy\")\n",
    "axes[0].set_xlabel(\"Epoch #\")\n",
    "axes[0].set_ylabel(\"Accuracy\")\n",
    "axes[0].legend(loc=\"lower right\")\n",
    "\n",
    "# Plot training loss\n",
    "axes[1].plot(np.arange(0, N), H.history[\"loss\"], label=\"train_loss\")\n",
    "axes[1].plot(np.arange(0, N), H.history[\"val_loss\"], label=\"val_loss\")\n",
    "axes[1].set_title(\"Training Loss\")\n",
    "axes[1].set_xlabel(\"Epoch #\")\n",
    "axes[1].set_ylabel(\"Loss\")\n",
    "axes[1].legend(loc=\"upper right\")\n",
    "\n",
    "plt.tight_layout()\n",
    "plt.show()"
   ]
  }
 ],
 "metadata": {
  "colab": {
   "provenance": []
  },
  "kernelspec": {
   "display_name": "Python 3 (ipykernel)",
   "language": "python",
   "name": "python3"
  },
  "language_info": {
   "codemirror_mode": {
    "name": "ipython",
    "version": 3
   },
   "file_extension": ".py",
   "mimetype": "text/x-python",
   "name": "python",
   "nbconvert_exporter": "python",
   "pygments_lexer": "ipython3",
   "version": "3.9.12"
  }
 },
 "nbformat": 4,
 "nbformat_minor": 5
}
